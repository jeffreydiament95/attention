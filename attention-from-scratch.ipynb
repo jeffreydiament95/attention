{
 "cells": [
  {
   "attachments": {},
   "cell_type": "markdown",
   "metadata": {},
   "source": [
    "<u>**ATTENTION FROM SCRATCH**</u>\n",
    "\n",
    "This notebook provides a step by step walkthrough for how implement a single head of self-attention from the scratch using pytorch.\n",
    "\n",
    "inspired by Karpathy's transformer tutorial: https://www.youtube.com/watch?v=kCc8FmEb1nY&list=PLAqhIrjkxbuWI23v9cThsA9GvCAUhRvKZ&index=7\n",
    "\n",
    "*core problem*: how to gather information from the past in a data-dependent way?"
   ]
  },
  {
   "attachments": {},
   "cell_type": "markdown",
   "metadata": {},
   "source": [
    "<u>**DEFINITIONS**</u>\n",
    "\n",
    "**B**: batch size (numner of examples in a training batch, processed in parallel)\n",
    "\n",
    "**T**: time (context length, number of tokens per batch example)\n",
    "\n",
    "**C**: channels (embedding dimension, number of elements used to represent each token)"
   ]
  },
  {
   "cell_type": "code",
   "execution_count": 1,
   "metadata": {},
   "outputs": [],
   "source": [
    "import torch\n",
    "\n",
    "torch.manual_seed(42) # for reproducibility\n",
    "B, T, C = 4, 8, 2 # batch size, time steps, channels\n",
    "x = torch.rand(B, T, C) # input"
   ]
  },
  {
   "attachments": {},
   "cell_type": "markdown",
   "metadata": {},
   "source": [
    "**VERSION 1**\n",
    "\n",
    "<u>Objective</u>: create random input **x**, and then calculate **out**, which is an identically sized tensor containing the average of all the proceeding tokens for a given exmample"
   ]
  },
  {
   "cell_type": "code",
   "execution_count": 2,
   "metadata": {},
   "outputs": [],
   "source": [
    "# do computation\n",
    "\n",
    "xbow1 = torch.zeros(B, T, C) # pre-allocate output\n",
    "for b in range(B):\n",
    "    for t in range(T):\n",
    "        xprev = x[b, :t+1, ] # all previous time steps (t, C)\n",
    "        xprev_mean = torch.mean(xprev, dim=0) # average over time (C)\n",
    "        xbow1[b, t] = xprev_mean # average over time (C)\n"
   ]
  },
  {
   "cell_type": "code",
   "execution_count": 3,
   "metadata": {},
   "outputs": [
    {
     "name": "stdout",
     "output_type": "stream",
     "text": [
      "x.shape = torch.Size([4, 8, 2])\n",
      "xbow1.shape = torch.Size([4, 8, 2])\n",
      "x[0,:3] = tensor([[0.8823, 0.9150],\n",
      "        [0.3829, 0.9593],\n",
      "        [0.3904, 0.6009]])\n",
      "xbow1[0,:3] = tensor([[0.8823, 0.9150],\n",
      "        [0.6326, 0.9372],\n",
      "        [0.5519, 0.8251]])\n"
     ]
    }
   ],
   "source": [
    "# evaluate output\n",
    "\n",
    "print(f'{x.shape = }')\n",
    "print(f'{xbow1.shape = }')\n",
    "\n",
    "print(f'{x[0,:3] = }')\n",
    "print(f'{xbow1[0,:3] = }')"
   ]
  },
  {
   "attachments": {},
   "cell_type": "markdown",
   "metadata": {},
   "source": [
    "<u>Evaluation</u>: as shown above, for the first 3 timesteps of the first batch, the output matches our objective. For the first token, both output channels match the input channels (mean over one sample). For the next token, the output channel is the mean of the first two input channels, etc...\n",
    "\n",
    "For the next two versions, we'll verify the results by comparing against this output."
   ]
  },
  {
   "attachments": {},
   "cell_type": "markdown",
   "metadata": {},
   "source": [
    "**VERSION 2**\n",
    "\n",
    "<u>Objective</u>: Same as above, but do it more efficiently using matrix multiplication. This allows us to do an average aggregation of past information (no future) using a lower triangular matrix multiply"
   ]
  },
  {
   "cell_type": "code",
   "execution_count": 4,
   "metadata": {},
   "outputs": [
    {
     "name": "stdout",
     "output_type": "stream",
     "text": [
      "tensor([[1.0000, 0.0000, 0.0000, 0.0000, 0.0000, 0.0000, 0.0000, 0.0000],\n",
      "        [0.5000, 0.5000, 0.0000, 0.0000, 0.0000, 0.0000, 0.0000, 0.0000],\n",
      "        [0.3333, 0.3333, 0.3333, 0.0000, 0.0000, 0.0000, 0.0000, 0.0000],\n",
      "        [0.2500, 0.2500, 0.2500, 0.2500, 0.0000, 0.0000, 0.0000, 0.0000],\n",
      "        [0.2000, 0.2000, 0.2000, 0.2000, 0.2000, 0.0000, 0.0000, 0.0000],\n",
      "        [0.1667, 0.1667, 0.1667, 0.1667, 0.1667, 0.1667, 0.0000, 0.0000],\n",
      "        [0.1429, 0.1429, 0.1429, 0.1429, 0.1429, 0.1429, 0.1429, 0.0000],\n",
      "        [0.1250, 0.1250, 0.1250, 0.1250, 0.1250, 0.1250, 0.1250, 0.1250]])\n"
     ]
    }
   ],
   "source": [
    "# do computation \n",
    "\n",
    "wei = torch.tril(torch.ones(T, T)) # lower triangular matrix (T, T)\n",
    "\n",
    "# dim=1 means \"reduce over column dimension\"\n",
    "# keepdim=True is critical, because it maintains the empty column dimension which is needed for broadcasting (see tangent below)\n",
    "wei = wei / wei.sum(dim=1, keepdim=True) # normalize (T, T)\n",
    "xbow2 = wei @ x # matrix multiplication (T, T) @ (B, T, C) -> (B, T, C); broadcast (T, T) over batch dimension B and then do (T, T) @ (T, C) for each batch in parallel\n",
    "print(wei)"
   ]
  },
  {
   "cell_type": "code",
   "execution_count": 5,
   "metadata": {},
   "outputs": [
    {
     "data": {
      "text/plain": [
       "True"
      ]
     },
     "execution_count": 5,
     "metadata": {},
     "output_type": "execute_result"
    }
   ],
   "source": [
    "# evaluate output\n",
    "\n",
    "torch.allclose(xbow1, xbow2) # check that outputs are equal"
   ]
  },
  {
   "attachments": {},
   "cell_type": "markdown",
   "metadata": {},
   "source": [
    "**VERSION 3**\n",
    "\n",
    "<u>Objective</u>: Same as above, but introduce softmax to now allow for *weighted* aggregation of past information. Here we're still doing an average, but introducing softmax allows us to handle non uniform weight distributions in the future..."
   ]
  },
  {
   "cell_type": "code",
   "execution_count": 6,
   "metadata": {},
   "outputs": [
    {
     "name": "stdout",
     "output_type": "stream",
     "text": [
      "before softmax: \n",
      " tensor([[0., -inf, -inf, -inf, -inf, -inf, -inf, -inf],\n",
      "        [0., 0., -inf, -inf, -inf, -inf, -inf, -inf],\n",
      "        [0., 0., 0., -inf, -inf, -inf, -inf, -inf],\n",
      "        [0., 0., 0., 0., -inf, -inf, -inf, -inf],\n",
      "        [0., 0., 0., 0., 0., -inf, -inf, -inf],\n",
      "        [0., 0., 0., 0., 0., 0., -inf, -inf],\n",
      "        [0., 0., 0., 0., 0., 0., 0., -inf],\n",
      "        [0., 0., 0., 0., 0., 0., 0., 0.]])\n",
      "after softmax: \n",
      " tensor([[1.0000, 0.0000, 0.0000, 0.0000, 0.0000, 0.0000, 0.0000, 0.0000],\n",
      "        [0.5000, 0.5000, 0.0000, 0.0000, 0.0000, 0.0000, 0.0000, 0.0000],\n",
      "        [0.3333, 0.3333, 0.3333, 0.0000, 0.0000, 0.0000, 0.0000, 0.0000],\n",
      "        [0.2500, 0.2500, 0.2500, 0.2500, 0.0000, 0.0000, 0.0000, 0.0000],\n",
      "        [0.2000, 0.2000, 0.2000, 0.2000, 0.2000, 0.0000, 0.0000, 0.0000],\n",
      "        [0.1667, 0.1667, 0.1667, 0.1667, 0.1667, 0.1667, 0.0000, 0.0000],\n",
      "        [0.1429, 0.1429, 0.1429, 0.1429, 0.1429, 0.1429, 0.1429, 0.0000],\n",
      "        [0.1250, 0.1250, 0.1250, 0.1250, 0.1250, 0.1250, 0.1250, 0.1250]])\n"
     ]
    }
   ],
   "source": [
    "# do computation \n",
    "\n",
    "tril = torch.tril(torch.ones(T, T)) # lower triangular matrix (T, T)\n",
    "wei = torch.zeros(T, T) # weight matrix (T, T)\n",
    "wei = wei.masked_fill(tril == 0, float('-inf')) # mask out upper triangular part (T, T)\n",
    "print(\"before softmax: \\n\", wei)\n",
    "wei = torch.softmax(wei, dim=1) # softmax over column dimension (T, T)\n",
    "print(\"after softmax: \\n\", wei)\n",
    "xbow3 = wei @ x # matrix multiplication (T, T) @ (B, T, C) -> (B, T, C); broadcast (T, T) over batch dimension B and then do (T, T) @ (T, C) for each batch in parallel"
   ]
  },
  {
   "cell_type": "code",
   "execution_count": 7,
   "metadata": {},
   "outputs": [
    {
     "data": {
      "text/plain": [
       "True"
      ]
     },
     "execution_count": 7,
     "metadata": {},
     "output_type": "execute_result"
    }
   ],
   "source": [
    "# evaluate output\n",
    "\n",
    "torch.allclose(xbow1, xbow3) # check that outputs are equal"
   ]
  },
  {
   "attachments": {},
   "cell_type": "markdown",
   "metadata": {},
   "source": [
    "<u>**VERSION 4: SELF ATTENTION**</u>\n",
    "\n",
    "<u>Objective</u>: Implement a single head of self attention. Here, each token emits three vectors of length *head_size*:\n",
    "\n",
    "1. query: \"what am I looking for?\"\n",
    "\n",
    "2. key: \"what I contain\"\n",
    "\n",
    "3. value: \"what I will communicate\"\n",
    "\n",
    "weight matrix contains the affinities for each token with respect to all other tokens in the example. for a given token_1, it's affinity to any other token_x in the example is calculated via a dot product between token_1's query and token_x's key. we scale this up with matrix multiplication to compute the affinities between all tokens for an example and across batches in parallel. the weight matrix is then normalized and future info is omitted via masking and softmax.\n",
    "\n",
    "output is then determined via matrix multiplication between the weight matrix and the value matrix. \n",
    "\n",
    "we can think of the input *x* as containing private information. it only communicates outwardly via query, key, and value, which are all calculated via a linear layer that transforms each token in x from *C* -> *head_size*\n",
    "\n"
   ]
  },
  {
   "cell_type": "code",
   "execution_count": 8,
   "metadata": {},
   "outputs": [
    {
     "data": {
      "text/plain": [
       "torch.Size([4, 8, 16])"
      ]
     },
     "execution_count": 8,
     "metadata": {},
     "output_type": "execute_result"
    }
   ],
   "source": [
    "import torch.nn as nn\n",
    "import torch.nn.functional as F\n",
    "\n",
    "head_size = 16\n",
    "\n",
    "# linear layers used to project *private* input into *public* key, query, and value vectors\n",
    "query = nn.Linear(C, head_size, bias=False) # converts (B, T, C) -> (B, T, head_size)\n",
    "key = nn.Linear(C, head_size, bias=False) # converts (B, T, C) -> (B, T, head_size)\n",
    "value = nn.Linear(C, head_size, bias=False) # converts (B, T, C) -> (B, T, head_size)\n",
    "\n",
    "q = query(x) # (B, T, head_size) \n",
    "k = key(x) # (B, T, head_size) NOTE: here we implement *self* attention bc k is derived from the input; but in *cross-attention*, this would come from elsewhere (the encoder, not this input)\n",
    "v = value(x) # (B, T, head_size) NOTE: here we implement *self* attention bc v is derived from the input; but in *cross-attention*, this would come from elsewhere (the encoder, not this input)\n",
    "\n",
    "wei = q @ k.transpose(-1, -2) * head_size**-0.5 # (B, T, head_size) @ (B, head_size, T) -> (B, T, T)\n",
    "\n",
    "# mask to eliminate future info and normalize via softmax\n",
    "tril = torch.tril(torch.ones(T, T)) # lower triangular matrix (T, T)\n",
    "wei = wei.masked_fill(tril == 0, float('-inf')) # mask out upper triangular part (B, T, T), broadcast over batch dimension B NOTE: this implements a *decoder* bc we ignore the future; if we wanted to implement an *encoder*, we would not mask out any of this info\n",
    "wei = F.softmax(wei, dim=-1) # softmax over last dimension (T, T)\n",
    "\n",
    "out = wei @ v # (B, T, T) @ (B, T, head_size) -> (B, T, head_size)\n",
    "\n",
    "out.shape\n"
   ]
  },
  {
   "attachments": {},
   "cell_type": "markdown",
   "metadata": {},
   "source": [
    "**TANGENT: IMPORTANCE OF SCALED ATTENTION**"
   ]
  },
  {
   "cell_type": "code",
   "execution_count": 9,
   "metadata": {},
   "outputs": [
    {
     "name": "stdout",
     "output_type": "stream",
     "text": [
      "no scaling: \n",
      " tensor(0.9493) tensor(1.0839) tensor(15.8095)\n",
      "with scaling: \n",
      " tensor(0.9493) tensor(1.0839) tensor(0.9881)\n"
     ]
    }
   ],
   "source": [
    "# assume that k and q have unit variance at initialization -- observe how this variance translates to the variance of the weights\n",
    "\n",
    "k = torch.randn(B, T, head_size)\n",
    "q = torch.randn(B, T, head_size)\n",
    "wei_noscale = q @ k.transpose(-1, -2)\n",
    "wei_scale = q @ k.transpose(-1, -2) * head_size**-0.5\n",
    "\n",
    "print(\"no scaling: \\n\", k.var(), q.var(), wei_noscale.var())\n",
    "print(\"with scaling: \\n\", k.var(), q.var(), wei_scale.var())\n"
   ]
  },
  {
   "cell_type": "code",
   "execution_count": 10,
   "metadata": {},
   "outputs": [
    {
     "data": {
      "text/plain": [
       "Text(0.5, 1.0, 'softmax output trends towards onehot vector as variance of input increases')"
      ]
     },
     "execution_count": 10,
     "metadata": {},
     "output_type": "execute_result"
    },
    {
     "data": {
      "image/png": "[encoded data removed]",
      "text/plain": [
       "<Figure size 432x288 with 1 Axes>"
      ]
     },
     "metadata": {
      "needs_background": "light"
     },
     "output_type": "display_data"
    }
   ],
   "source": [
    "# high variance of weights prior to softmax is problematic, as illustrated below\n",
    "\n",
    "# loop through scaling factors from 1 to 100 in steps of 10 and observe how the variance of the weights changes and how this effects the shape of the softmax distribution\n",
    "torch.manual_seed(42) # for reproducibility\n",
    "\n",
    "x = torch.randn(10,) \n",
    "# create range of integers from 1 to 10 with step size of 2\n",
    "scale = list(range(1,6,1))[::-1]\n",
    "x_scaled = torch.stack([x * i for i in scale])\n",
    "vars = [var.item() for var in x_scaled.var(dim=1)]\n",
    "x_softmaxes = F.softmax(x_scaled, dim=1)\n",
    "\n",
    "# plot softmax distributions \n",
    "import matplotlib.pyplot as plt\n",
    "%matplotlib inline  \n",
    "\n",
    "fig, ax = plt.subplots()\n",
    "\n",
    "ax.imshow(x_softmaxes.numpy(),vmin=0,vmax=1, cmap=\"jet\")\n",
    "ax.set_yticks(range(len(vars)))\n",
    "ax.set_yticklabels([\"{:.2f}\".format(var) for var in vars])\n",
    "ax.set_xlabel('input vector')\n",
    "ax.set_ylabel('input variance')\n",
    "ax.set_title(\"softmax output trends towards onehot vector as variance of input increases\")\n"
   ]
  },
  {
   "attachments": {},
   "cell_type": "markdown",
   "metadata": {},
   "source": [
    "**TANGENT: BROADCASTING AND THE IMPORANCE OF KEEPDIM**"
   ]
  },
  {
   "cell_type": "code",
   "execution_count": 11,
   "metadata": {},
   "outputs": [
    {
     "name": "stdout",
     "output_type": "stream",
     "text": [
      "sum_incorrect.shape = torch.Size([8])\n",
      "sum_correct.shape = torch.Size([8, 1])\n",
      "sum_incorrect = tensor([1., 2., 3., 4., 5., 6., 7., 8.])\n",
      "sum_correct = tensor([[1.],\n",
      "        [2.],\n",
      "        [3.],\n",
      "        [4.],\n",
      "        [5.],\n",
      "        [6.],\n",
      "        [7.],\n",
      "        [8.]])\n"
     ]
    }
   ],
   "source": [
    "# tangent: importance of using the correct setting for keepdim\n",
    "\n",
    "wei = torch.tril(torch.ones(T, T)) # lower triangular matrix (T, T)\n",
    "\n",
    "sum_incorrect = wei.sum(1) # keepdim=False by default; output is row vector (T)\n",
    "sum_correct = wei.sum(1, keepdim=True) # output is column vector (T, 1)\n",
    "\n",
    "print(f'{sum_incorrect.shape = }')\n",
    "print(f'{sum_correct.shape = }')\n",
    "\n",
    "print(f'{sum_incorrect = }')\n",
    "print(f'{sum_correct = }')"
   ]
  },
  {
   "attachments": {},
   "cell_type": "markdown",
   "metadata": {},
   "source": [
    "during wei = wei / sum, the following will happen:\n",
    "\n",
    "*for sum_incorrect:*\n",
    "\n",
    "(T, T) / (T)\n",
    "\n",
    "(T, T) / ( , T) shift to the right\n",
    "\n",
    "(T, T) / (T, T) duplicate *row* vector down all the columns -- WRONG!\n",
    "\n",
    "\n",
    "*for sum_correct:*\n",
    "\n",
    "(T, T) / (T, 1) \n",
    "\n",
    "(T, T) / (T, T) duplicate *column* vector across all the rows -- CORRECT!"
   ]
  },
  {
   "attachments": {},
   "cell_type": "markdown",
   "metadata": {},
   "source": []
  }
 ],
 "metadata": {
  "kernelspec": {
   "display_name": "makemore",
   "language": "python",
   "name": "python3"
  },
  "language_info": {
   "codemirror_mode": {
    "name": "ipython",
    "version": 3
   },
   "file_extension": ".py",
   "mimetype": "text/x-python",
   "name": "python",
   "nbconvert_exporter": "python",
   "pygments_lexer": "ipython3",
   "version": "3.10.4"
  },
  "orig_nbformat": 4
 },
 "nbformat": 4,
 "nbformat_minor": 2
}
